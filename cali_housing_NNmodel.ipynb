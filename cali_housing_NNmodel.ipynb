{
  "nbformat": 4,
  "nbformat_minor": 0,
  "metadata": {
    "colab": {
      "provenance": []
    },
    "kernelspec": {
      "name": "python3",
      "display_name": "Python 3"
    },
    "language_info": {
      "name": "python"
    }
  },
  "cells": [
    {
      "cell_type": "code",
      "source": [
        "import tensorflow as tf\n",
        "import pandas as pd\n",
        "import sklearn as sk\n",
        "from sklearn.model_selection import train_test_split\n",
        "import numpy as np\n",
        "import matplotlib.pyplot as plt"
      ],
      "metadata": {
        "id": "invqR6kI_zJq"
      },
      "execution_count": 88,
      "outputs": []
    },
    {
      "cell_type": "code",
      "source": [
        "test=pd.read_csv('//content/sample_data/california_housing_test.csv')\n",
        "train=pd.read_csv('/content/sample_data/california_housing_train.csv')\n",
        "#train,test=sk.model_selection.train_test_split(data,test_size=0.2)\n"
      ],
      "metadata": {
        "id": "-AJtPeoaA3Za"
      },
      "execution_count": 89,
      "outputs": []
    },
    {
      "cell_type": "code",
      "source": [
        "model=tf.keras.models.Sequential([\n",
        "    tf.keras.layers.Dense(16,activation='relu'),\n",
        "    tf.keras.layers.Dense(32,activation='relu'),\n",
        "    tf.keras.layers.Dense(64,activation='relu'),\n",
        "    tf.keras.layers.Dense(128,activation='relu'),\n",
        "    tf.keras.layers.Dense(10,activation='softmax')\n",
        "])"
      ],
      "metadata": {
        "id": "DykQDl-xCtxs"
      },
      "execution_count": 115,
      "outputs": []
    },
    {
      "cell_type": "code",
      "source": [
        "model.compile(optimizer='adam',loss='sparse_categorical_crossentropy',metrics=['accuracy'])"
      ],
      "metadata": {
        "id": "lOHBzwfSC2Nm"
      },
      "execution_count": 116,
      "outputs": []
    },
    {
      "cell_type": "code",
      "source": [
        "x_train=train.iloc[:,1:]\n",
        "y_train=pd.cut(train.iloc[:, 0], bins=10, labels=False)\n",
        "x_test=test.iloc[:,1:]\n",
        "y_test=pd.cut(test.iloc[:, 0], bins=10, labels=False)"
      ],
      "metadata": {
        "id": "py9ohmvPDOs3"
      },
      "execution_count": 117,
      "outputs": []
    },
    {
      "cell_type": "code",
      "source": [
        "k = model.fit(x_train, y_train, epochs=30, validation_data=(x_test, y_test))"
      ],
      "metadata": {
        "colab": {
          "base_uri": "https://localhost:8080/"
        },
        "id": "EPeW3gBaDscT",
        "outputId": "24381f3b-2911-4918-e198-72cdc21d65bd"
      },
      "execution_count": 118,
      "outputs": [
        {
          "output_type": "stream",
          "name": "stdout",
          "text": [
            "Epoch 1/30\n",
            "\u001b[1m532/532\u001b[0m \u001b[32m━━━━━━━━━━━━━━━━━━━━\u001b[0m\u001b[37m\u001b[0m \u001b[1m4s\u001b[0m 2ms/step - accuracy: 0.1847 - loss: 2098.7383 - val_accuracy: 0.3193 - val_loss: 563.6492\n",
            "Epoch 2/30\n",
            "\u001b[1m532/532\u001b[0m \u001b[32m━━━━━━━━━━━━━━━━━━━━\u001b[0m\u001b[37m\u001b[0m \u001b[1m3s\u001b[0m 3ms/step - accuracy: 0.1984 - loss: 398.8531 - val_accuracy: 0.3193 - val_loss: 309.4973\n",
            "Epoch 3/30\n",
            "\u001b[1m532/532\u001b[0m \u001b[32m━━━━━━━━━━━━━━━━━━━━\u001b[0m\u001b[37m\u001b[0m \u001b[1m1s\u001b[0m 2ms/step - accuracy: 0.1962 - loss: 184.2997 - val_accuracy: 0.2293 - val_loss: 111.0296\n",
            "Epoch 4/30\n",
            "\u001b[1m532/532\u001b[0m \u001b[32m━━━━━━━━━━━━━━━━━━━━\u001b[0m\u001b[37m\u001b[0m \u001b[1m1s\u001b[0m 2ms/step - accuracy: 0.1954 - loss: 89.3745 - val_accuracy: 0.1753 - val_loss: 96.6105\n",
            "Epoch 5/30\n",
            "\u001b[1m532/532\u001b[0m \u001b[32m━━━━━━━━━━━━━━━━━━━━\u001b[0m\u001b[37m\u001b[0m \u001b[1m1s\u001b[0m 2ms/step - accuracy: 0.1852 - loss: 65.4144 - val_accuracy: 0.3250 - val_loss: 33.3407\n",
            "Epoch 6/30\n",
            "\u001b[1m532/532\u001b[0m \u001b[32m━━━━━━━━━━━━━━━━━━━━\u001b[0m\u001b[37m\u001b[0m \u001b[1m1s\u001b[0m 2ms/step - accuracy: 0.2040 - loss: 35.2859 - val_accuracy: 0.3197 - val_loss: 20.6259\n",
            "Epoch 7/30\n",
            "\u001b[1m532/532\u001b[0m \u001b[32m━━━━━━━━━━━━━━━━━━━━\u001b[0m\u001b[37m\u001b[0m \u001b[1m1s\u001b[0m 2ms/step - accuracy: 0.2123 - loss: 18.8440 - val_accuracy: 0.2020 - val_loss: 17.8821\n",
            "Epoch 8/30\n",
            "\u001b[1m532/532\u001b[0m \u001b[32m━━━━━━━━━━━━━━━━━━━━\u001b[0m\u001b[37m\u001b[0m \u001b[1m1s\u001b[0m 2ms/step - accuracy: 0.2210 - loss: 14.2279 - val_accuracy: 0.1153 - val_loss: 10.7391\n",
            "Epoch 9/30\n",
            "\u001b[1m532/532\u001b[0m \u001b[32m━━━━━━━━━━━━━━━━━━━━\u001b[0m\u001b[37m\u001b[0m \u001b[1m1s\u001b[0m 2ms/step - accuracy: 0.2227 - loss: 6.6354 - val_accuracy: 0.1857 - val_loss: 2.6447\n",
            "Epoch 10/30\n",
            "\u001b[1m532/532\u001b[0m \u001b[32m━━━━━━━━━━━━━━━━━━━━\u001b[0m\u001b[37m\u001b[0m \u001b[1m1s\u001b[0m 2ms/step - accuracy: 0.2195 - loss: 2.7284 - val_accuracy: 0.3223 - val_loss: 4.3379\n",
            "Epoch 11/30\n",
            "\u001b[1m532/532\u001b[0m \u001b[32m━━━━━━━━━━━━━━━━━━━━\u001b[0m\u001b[37m\u001b[0m \u001b[1m2s\u001b[0m 3ms/step - accuracy: 0.2657 - loss: 2.1470 - val_accuracy: 0.3227 - val_loss: 1.8404\n",
            "Epoch 12/30\n",
            "\u001b[1m532/532\u001b[0m \u001b[32m━━━━━━━━━━━━━━━━━━━━\u001b[0m\u001b[37m\u001b[0m \u001b[1m2s\u001b[0m 2ms/step - accuracy: 0.3017 - loss: 1.8207 - val_accuracy: 0.3190 - val_loss: 1.8129\n",
            "Epoch 13/30\n",
            "\u001b[1m532/532\u001b[0m \u001b[32m━━━━━━━━━━━━━━━━━━━━\u001b[0m\u001b[37m\u001b[0m \u001b[1m1s\u001b[0m 2ms/step - accuracy: 0.3078 - loss: 1.7934 - val_accuracy: 0.3190 - val_loss: 1.8490\n",
            "Epoch 14/30\n",
            "\u001b[1m532/532\u001b[0m \u001b[32m━━━━━━━━━━━━━━━━━━━━\u001b[0m\u001b[37m\u001b[0m \u001b[1m1s\u001b[0m 2ms/step - accuracy: 0.2983 - loss: 1.7942 - val_accuracy: 0.3183 - val_loss: 1.8075\n",
            "Epoch 15/30\n",
            "\u001b[1m532/532\u001b[0m \u001b[32m━━━━━━━━━━━━━━━━━━━━\u001b[0m\u001b[37m\u001b[0m \u001b[1m1s\u001b[0m 2ms/step - accuracy: 0.2952 - loss: 1.8393 - val_accuracy: 0.3210 - val_loss: 1.8855\n",
            "Epoch 16/30\n",
            "\u001b[1m532/532\u001b[0m \u001b[32m━━━━━━━━━━━━━━━━━━━━\u001b[0m\u001b[37m\u001b[0m \u001b[1m1s\u001b[0m 2ms/step - accuracy: 0.2982 - loss: 1.8684 - val_accuracy: 0.3197 - val_loss: 1.8797\n",
            "Epoch 17/30\n",
            "\u001b[1m532/532\u001b[0m \u001b[32m━━━━━━━━━━━━━━━━━━━━\u001b[0m\u001b[37m\u001b[0m \u001b[1m1s\u001b[0m 2ms/step - accuracy: 0.2987 - loss: 2.0970 - val_accuracy: 0.3193 - val_loss: 1.9123\n",
            "Epoch 18/30\n",
            "\u001b[1m532/532\u001b[0m \u001b[32m━━━━━━━━━━━━━━━━━━━━\u001b[0m\u001b[37m\u001b[0m \u001b[1m1s\u001b[0m 2ms/step - accuracy: 0.3078 - loss: 1.8648 - val_accuracy: 0.3197 - val_loss: 1.8796\n",
            "Epoch 19/30\n",
            "\u001b[1m532/532\u001b[0m \u001b[32m━━━━━━━━━━━━━━━━━━━━\u001b[0m\u001b[37m\u001b[0m \u001b[1m1s\u001b[0m 2ms/step - accuracy: 0.3073 - loss: 1.8539 - val_accuracy: 0.3197 - val_loss: 1.8737\n",
            "Epoch 20/30\n",
            "\u001b[1m532/532\u001b[0m \u001b[32m━━━━━━━━━━━━━━━━━━━━\u001b[0m\u001b[37m\u001b[0m \u001b[1m2s\u001b[0m 3ms/step - accuracy: 0.3008 - loss: 1.8628 - val_accuracy: 0.3197 - val_loss: 1.8817\n",
            "Epoch 21/30\n",
            "\u001b[1m532/532\u001b[0m \u001b[32m━━━━━━━━━━━━━━━━━━━━\u001b[0m\u001b[37m\u001b[0m \u001b[1m2s\u001b[0m 3ms/step - accuracy: 0.2999 - loss: 1.8614 - val_accuracy: 0.3193 - val_loss: 1.8787\n",
            "Epoch 22/30\n",
            "\u001b[1m532/532\u001b[0m \u001b[32m━━━━━━━━━━━━━━━━━━━━\u001b[0m\u001b[37m\u001b[0m \u001b[1m2s\u001b[0m 2ms/step - accuracy: 0.2966 - loss: 1.8653 - val_accuracy: 0.3193 - val_loss: 1.8814\n",
            "Epoch 23/30\n",
            "\u001b[1m532/532\u001b[0m \u001b[32m━━━━━━━━━━━━━━━━━━━━\u001b[0m\u001b[37m\u001b[0m \u001b[1m1s\u001b[0m 2ms/step - accuracy: 0.3035 - loss: 1.8533 - val_accuracy: 0.3193 - val_loss: 1.8762\n",
            "Epoch 24/30\n",
            "\u001b[1m532/532\u001b[0m \u001b[32m━━━━━━━━━━━━━━━━━━━━\u001b[0m\u001b[37m\u001b[0m \u001b[1m1s\u001b[0m 2ms/step - accuracy: 0.3019 - loss: 1.8632 - val_accuracy: 0.3193 - val_loss: 1.8829\n",
            "Epoch 25/30\n",
            "\u001b[1m532/532\u001b[0m \u001b[32m━━━━━━━━━━━━━━━━━━━━\u001b[0m\u001b[37m\u001b[0m \u001b[1m1s\u001b[0m 2ms/step - accuracy: 0.3043 - loss: 1.8577 - val_accuracy: 0.3193 - val_loss: 1.8814\n",
            "Epoch 26/30\n",
            "\u001b[1m532/532\u001b[0m \u001b[32m━━━━━━━━━━━━━━━━━━━━\u001b[0m\u001b[37m\u001b[0m \u001b[1m1s\u001b[0m 2ms/step - accuracy: 0.3007 - loss: 2.0172 - val_accuracy: 0.3193 - val_loss: 1.8788\n",
            "Epoch 27/30\n",
            "\u001b[1m532/532\u001b[0m \u001b[32m━━━━━━━━━━━━━━━━━━━━\u001b[0m\u001b[37m\u001b[0m \u001b[1m1s\u001b[0m 2ms/step - accuracy: 0.3047 - loss: 1.8533 - val_accuracy: 0.3193 - val_loss: 1.8764\n",
            "Epoch 28/30\n",
            "\u001b[1m532/532\u001b[0m \u001b[32m━━━━━━━━━━━━━━━━━━━━\u001b[0m\u001b[37m\u001b[0m \u001b[1m1s\u001b[0m 2ms/step - accuracy: 0.3049 - loss: 1.8559 - val_accuracy: 0.3193 - val_loss: 1.8833\n",
            "Epoch 29/30\n",
            "\u001b[1m532/532\u001b[0m \u001b[32m━━━━━━━━━━━━━━━━━━━━\u001b[0m\u001b[37m\u001b[0m \u001b[1m1s\u001b[0m 2ms/step - accuracy: 0.2985 - loss: 1.8605 - val_accuracy: 0.3193 - val_loss: 1.8795\n",
            "Epoch 30/30\n",
            "\u001b[1m532/532\u001b[0m \u001b[32m━━━━━━━━━━━━━━━━━━━━\u001b[0m\u001b[37m\u001b[0m \u001b[1m2s\u001b[0m 3ms/step - accuracy: 0.2988 - loss: 1.8666 - val_accuracy: 0.3193 - val_loss: 1.8747\n"
          ]
        }
      ]
    },
    {
      "cell_type": "code",
      "source": [
        "plt.plot(k.history['accuracy'])\n",
        "plt.title('Model Accuracy')\n",
        "plt.ylabel('Accuracy')\n",
        "plt.xlabel('Epoch')\n",
        "plt.show()"
      ],
      "metadata": {
        "colab": {
          "base_uri": "https://localhost:8080/",
          "height": 472
        },
        "id": "LhtrXNNnD7fn",
        "outputId": "774ccad2-539e-4a9e-b2d3-9f1fd7d2ea36"
      },
      "execution_count": 122,
      "outputs": [
        {
          "output_type": "display_data",
          "data": {
            "text/plain": [
              "<Figure size 640x480 with 1 Axes>"
            ],
            "image/png": "[encoded data removed]"
          },
          "metadata": {}
        }
      ]
    },
    {
      "cell_type": "code",
      "source": [
        "pred=model.predict(x_test,)\n",
        "pred_class=np.argmax(pred,axis=1)\n",
        "print(pred_class)\n"
      ],
      "metadata": {
        "colab": {
          "base_uri": "https://localhost:8080/"
        },
        "id": "QOExzdu3Eb18",
        "outputId": "f7f3e170-b07f-4122-b823-eadd1df3f8d3"
      },
      "execution_count": 123,
      "outputs": [
        {
          "output_type": "stream",
          "name": "stdout",
          "text": [
            "\u001b[1m94/94\u001b[0m \u001b[32m━━━━━━━━━━━━━━━━━━━━\u001b[0m\u001b[37m\u001b[0m \u001b[1m0s\u001b[0m 1ms/step\n",
            "[6 6 6 ... 6 6 6]\n"
          ]
        }
      ]
    },
    {
      "cell_type": "code",
      "source": [
        "test_loss,test_acc=model.evaluate(x_test,y_test)\n",
        "print(test_acc)\n",
        "print(\"The accuracy is: \"+str(test_acc*100)+\" %\")"
      ],
      "metadata": {
        "colab": {
          "base_uri": "https://localhost:8080/"
        },
        "id": "BliaZtDcFvrS",
        "outputId": "39d26be4-b0db-4911-a4f3-940516aca826"
      },
      "execution_count": 124,
      "outputs": [
        {
          "output_type": "stream",
          "name": "stdout",
          "text": [
            "\u001b[1m94/94\u001b[0m \u001b[32m━━━━━━━━━━━━━━━━━━━━\u001b[0m\u001b[37m\u001b[0m \u001b[1m0s\u001b[0m 1ms/step - accuracy: 0.3191 - loss: 1.8647\n",
            "0.31933334469795227\n",
            "The accuracy is: 31.933334469795227 %\n"
          ]
        }
      ]
    }
  ]
}